{
  "nbformat": 4,
  "nbformat_minor": 0,
  "metadata": {
    "colab": {
      "name": "빅분기 3번.ipynb",
      "provenance": [],
      "collapsed_sections": [],
      "authorship_tag": "ABX9TyMSRvLSV2eqvmKzRrXBj7Ct"
    },
    "kernelspec": {
      "name": "python3",
      "display_name": "Python 3"
    },
    "language_info": {
      "name": "python"
    }
  },
  "cells": [
    {
      "cell_type": "code",
      "execution_count": null,
      "metadata": {
        "id": "O1afHcXmz_y9"
      },
      "outputs": [],
      "source": [
        "import pandas as pd\n",
        "X = pd.read_csv(\"X_train.csv\") # 훈련용\n",
        "y = pd.read_csv(\"y_train.csv\") # 훈련용\n",
        "t = pd.read_csv(\"X_test.csv\") # 테스트용\n",
        "\n",
        "# 훈련용 데이터 연속형/범주형 나누기\n",
        "X_num = X[['Customer_care_calls', 'Customer_rating', 'Cost_of_the_Product', 'Prior_purchases', 'Discount_offered', 'Weight_in_gms']]\n",
        "X_cat = X[['Warehouse_block', 'Mode_of_Shipment', 'Product_importance', 'Gender']]\n",
        "X_cat = pd.get_dummies(X_cat)\n",
        "\n",
        "# 테스트용 데이터 똑같이 나누기\n",
        "t_num = t[['Customer_care_calls', 'Customer_rating', 'Cost_of_the_Product', 'Prior_purchases', 'Discount_offered', 'Weight_in_gms']]\n",
        "t_cat = t[['Warehouse_block', 'Mode_of_Shipment', 'Product_importance', 'Gender']]\n",
        "t_cat = pd.get_dummies(t_cat)\n",
        "\n",
        "# 원핫인코딩한 범주형 변수들 합치기 \n",
        "X_cat, t_cat = X_cat.align(t_cat, join='inner', axis=1)\n",
        "\n",
        "# 연속형 변수 스케일링\n",
        "from sklearn.preprocessing import MinMaxScaler\n",
        "minmax = MinMaxScaler()\n",
        "minmax.fit(X_num) #fit은 훈련용으로!!!\n",
        "X_scaled = minmax.transform(X_num)\n",
        "t_scaled = minmax.transform(t_num)\n",
        "\n",
        "# 최종 데이터 (연속형+범주형)\n",
        "X_train = pd.concat([ pd.DataFrame(X_scaled), X_cat ], axis=1) #데이터프레임을 붙이기\n",
        "X_test = pd.concat([ pd.DataFrame(t_scaled), t_cat ], axis=1)\n",
        "\n",
        "y_train = y['Reached.on.Time_Y.N']\n",
        "\n",
        "# 모델 적용 - 훈련용 데이터\n",
        "from sklearn.linear_model import LogisticRegression\n",
        "model = LogisticRegression()\n",
        "model.fit(X_train, y_train) #fit은 훈련용으로!!!\n",
        "\n",
        "# 결과 예측 - 테스트용 데이터\n",
        "pred_val = model.predict_proba(X_test)[:, 1] #참인 확률 값만 가져오기\n",
        "pred_df = pd.DataFrame(pred, columns=['pred_df']) #데이터프레임으로 만들기\n",
        "pred_final = pd.concat([test['ID'], pred_df], axis=1) #붙이기\n",
        "\n",
        "# 제출\n",
        "pred_final.to_csv(\"20220625.csv\", index=False) #인덱스 빼기\n"
      ]
    },
    {
      "cell_type": "code",
      "source": [
        ""
      ],
      "metadata": {
        "id": "sY0dQEFc0TDR"
      },
      "execution_count": null,
      "outputs": []
    },
    {
      "cell_type": "code",
      "source": [
        "df['col'].isnull().sum()\n",
        "len(df[''])\n",
        "df['col'].fillna(df['col'].map({'a':0, 'b':1, 'c':3 }))\n",
        "df['col'].sort_values(ascending=True)\n",
        "pd.to_datetime(df['col'])\n",
        "df['col'].dt.year\n",
        "df['range']=pd.qcut(df['col'],q=2, labels=['a', 'b'])\n",
        "df.groupby('col')\n",
        "\n"
      ],
      "metadata": {
        "id": "x_jOnIgs0TAJ"
      },
      "execution_count": null,
      "outputs": []
    },
    {
      "cell_type": "code",
      "source": [
        "import pandas as pd\n",
        "test = pd.read_csv(\"3rd_TravelInsurancePrediction_test.csv\")\n",
        "train = pd.read_csv(\"3rd_TravelInsurancePrediction_train.csv\")\n",
        "\n",
        "# X,y 변수 나누기\n",
        "X = train[['Age', 'Employment Type', 'GraduateOrNot', 'AnnualIncome', 'FamilyMembers', 'ChronicDiseases', 'FrequentFlyer', 'EverTravelledAbroad']]\n",
        "y = train[['TravelInsurance']]\n",
        "\n",
        "# 연속형,범주형 변수 나누고 범주형은 원핫인코딩\n",
        "X_num = X[['Age', 'AnnualIncome', 'FamilyMembers', 'ChronicDiseases']]\n",
        "X_cat = X[['Employment Type', 'GraduateOrNot', 'FrequentFlyer', 'EverTravelledAbroad']]\n",
        "X_cat = pd.get_dummies(X_cat)\n",
        "\n",
        "\n",
        "# 테스트용도 동일하게 \n",
        "test_num = test[['Age', 'AnnualIncome', 'FamilyMembers', 'ChronicDiseases']]\n",
        "test_cat = test[['Employment Type', 'GraduateOrNot', 'FrequentFlyer', 'EverTravelledAbroad']]\n",
        "test_cat = pd.get_dummies(test_cat)\n",
        "\n",
        "# 범주형 변수 합치기\n",
        "X_cat, test_cat = X_cat.align(test_cat, join='inner', axis=1)\n",
        "\n",
        "# 스케일링\n",
        "from sklearn.preprocessing import MinMaxScaler\n",
        "minmax = MinMaxScaler()\n",
        "minmax.fit(X_num) # fit은 훈련용 데이터\n",
        "X_scaled = minmax.transform(X_num)\n",
        "test_scaled = minmax.transform(test_num)\n",
        "\n",
        "# 모델에 적용할 최종 데이터\n",
        "X_train = pd.concat([pd.DataFrame(X_scaled), X_cat], axis=1)\n",
        "X_test = pd.concat([pd.DataFrame(test_scaled), test_cat], axis=1)\n",
        "\n",
        "y_train = y['TravelInsurance']\n",
        "\n",
        "# 모델 적용 - 훈련용 데이터\n",
        "from sklearn.ensemble import RandomForestClassifier \n",
        "model = RandomForestClassifier(max_depth = 8, random_state = 8)\n",
        "model.fit(X_train, y_train)\n",
        "\n",
        "# 결과 예측 - 테스트용 데이터\n",
        "pred_val = model.predict_proba(X_test)[:, 1]\n",
        "pred_df = pd.DataFrame(pred_val, columns = ['pred'])\n",
        "pred_test = pd.concat([test['ID'], pred_df ], axis=1)\n",
        "\n",
        "# 제출\n",
        "pred_test.to_csv(\"mmeooo.csv\", index=False)\n"
      ],
      "metadata": {
        "id": "7PK8kGeH0T8D"
      },
      "execution_count": null,
      "outputs": []
    }
  ]
}